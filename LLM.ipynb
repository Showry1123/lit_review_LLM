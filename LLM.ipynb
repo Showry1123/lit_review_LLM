{
  "cells": [
    {
      "cell_type": "markdown",
      "metadata": {
        "id": "E020heEmC1Vi"
      },
      "source": [
        "# Data pre-processing"
      ]
    },
    {
      "cell_type": "markdown",
      "metadata": {
        "id": "zhhqVhcflA7Z"
      },
      "source": [
        "## Split all the papers"
      ]
    },
    {
      "cell_type": "code",
      "execution_count": 13,
      "metadata": {
        "id": "49rLONqub2Yp"
      },
      "outputs": [],
      "source": [
        "import re\n",
        "import pandas as pd"
      ]
    },
    {
      "cell_type": "code",
      "execution_count": 22,
      "metadata": {
        "id": "HLuD7vBHMbAs"
      },
      "outputs": [],
      "source": [
        "with open(\"C:/Users/showr/OneDrive - Johns Hopkins/Documents/GitHub/lit_review_LLM/abstract.txt\", 'r',encoding='utf-8') as file:\n",
        "    text = file.read()"
      ]
    },
    {
      "cell_type": "code",
      "execution_count": 147,
      "metadata": {},
      "outputs": [],
      "source": [
        "pd.set_option('display.max_colwidth', None)"
      ]
    },
    {
      "cell_type": "code",
      "execution_count": 109,
      "metadata": {
        "colab": {
          "base_uri": "https://localhost:8080/",
          "height": 123
        },
        "id": "OfCf-JgsMrUX",
        "outputId": "8b4d8644-e849-4681-9ac7-ab87b6aa2ab1"
      },
      "outputs": [
        {
          "data": {
            "text/plain": [
              "'1. Continuum (Minneap Minn). 2017 Feb;23(1, Cerebrovascular Disease):15-39. doi: \\n10.1212/CON.0000000000000416.\\n\\nStroke Epidemiology and Risk Factor Management.\\n\\nGuzik A, Bushnell C.\\n\\nPURPOSE OF REVIEW: Death from stroke has decreased over the past decade, with \\nstroke now the fifth leading cause of death in the United States. In addition, \\nthe incidence of new and recurrent stroke is declining, likely because of the \\nincreased use of specific prevention medications, such as statins and \\nantihypertensives. Despite these positive trends in incidence and mortality, \\nmany strokes remain preventable. The major modifiable risk factors are \\nhypertension, diabetes mellitus, tobacco smoking, and hyperlipidemia, as well as \\nlifestyle factors, such as obesity, poor diet/nutrition, and physical \\ninactivity. This article reviews the current recommendations for the management \\nof each of these modifiable risk factors.\\nRECENT FINDINGS: It has been documented that some blood pressure medications may \\nincrease variability of blood pressure and ultimately increase the risk for \\nstroke. Stroke prevention typically includes antiplatelet therapy (unless an \\nindication for anticoagulation exists), so the most recent evidence supporting \\nuse of these drugs is reviewed. In addition, emerging risk factors, such as \\nobstructive sleep apnea, electronic cigarettes, and elevated lipoprotein (a), \\nare discussed.\\nSUMMARY: Overall, secondary stroke prevention includes a multifactorial \\napproach. This article incorporates evidence from guidelines and published \\nstudies and uses an illustrative case study throughout the article to provide \\nexamples of secondary prevention management of stroke risk factors.\\n\\nDOI: 10.1212/CON.0000000000000416\\nPMID: 28157742 [Indexed for MEDLINE]\\n\\n\\n2. J Physiol. 2020 Nov;598(22):5039-5062. doi: 10.1113/JP279754. Epub 2020 Oct 12.\\n\\nEffects of e-cigarettes and vaping devices on cardiac and pulmonary physiology.\\n\\nTsai M(1), Byun MK(2)(3)(4), Shin J(2)(3), Crotty Alexande'"
            ]
          },
          "execution_count": 109,
          "metadata": {},
          "output_type": "execute_result"
        }
      ],
      "source": [
        "text[:2000]"
      ]
    },
    {
      "cell_type": "code",
      "execution_count": 24,
      "metadata": {
        "id": "xuV_V8VKT3j2"
      },
      "outputs": [],
      "source": [
        "# Split the content based on double newlines followed by a number and a period\n",
        "papers = re.split(r'\\n\\n\\d+\\. ', text)\n",
        "\n",
        "# Paper1 will have an extra '1. '\n",
        "papers[0] = papers[0][3:]"
      ]
    },
    {
      "cell_type": "code",
      "execution_count": 25,
      "metadata": {
        "colab": {
          "base_uri": "https://localhost:8080/",
          "height": 279
        },
        "id": "f1PJB39ZLpQS",
        "outputId": "e022b047-7b10-408f-8a7a-f8739bdd5772"
      },
      "outputs": [
        {
          "data": {
            "text/plain": [
              "'J Physiol. 2020 Nov;598(22):5039-5062. doi: 10.1113/JP279754. Epub 2020 Oct 12.\\n\\nEffects of e-cigarettes and vaping devices on cardiac and pulmonary physiology.\\n\\nTsai M(1), Byun MK(2)(3)(4), Shin J(2)(3), Crotty Alexander LE(2)(3).\\n\\nAuthor information:\\n(1)Division of Pulmonary, Critical Care and Sleep Medicine, Department of \\nInternal Medicine, The Ohio State University, Columbus, OH, USA.\\n(2)Pulmonary and Critical Care Section, VA San Diego Healthcare System, La \\nJolla, CA, USA.\\n(3)Division of Pulmonary, Critical Care and Sleep Medicine, Department of \\nMedicine, University of California San Diego (UCSD), La Jolla, CA, USA.\\n(4)Division of Pulmonology, Department of Internal Medicine, Gangnam Severance \\nHospital, Yonsei University College of Medicine, Seoul, South Korea.\\n\\nE-cigarette aerosols are exceedingly different from conventional tobacco smoke, \\ncontaining dozens of chemicals not found in cigarette smoke. It is highly likely \\nthat chronic use of e-cigarettes will induce pathological changes in both the \\nheart and lungs. Here we review human and animal studies published to date and \\nsummarize the cardiopulmonary physiological changes caused by vaping. In terms \\nof cardiac physiology, acute exposure to e-cigarette aerosols in human subjects \\nled to increased blood pressure and heart rate, similar to traditional \\ncigarettes. Chronic exposure to e-cigarette aerosols using animal models caused \\nincreased arterial stiffness, vascular endothelial changes, increased \\nangiogenesis, cardiorenal fibrosis and increased atherosclerotic plaque \\nformation. Pulmonary physiology is also affected by e-cigarette aerosol \\ninhalation, with increased airway reactivity, airway obstruction, inflammation \\nand emphysema. Research thus far demonstrates that the heart and lung undergo \\nnumerous changes in response to e-cigarette use, and disease development will \\ndepend on how those changes combine with both environmental and genetic factors. \\nE-cigarettes have been advertised as a healthy alternative to cigarette smoking, \\nand users are under the impression that vaping of e-cigarettes is harmless, but \\nthese claims that e-cigarettes are safer and healthier are not based on \\nevidence. Data from both humans and animal models are consistent in \\ndemonstrating that vaping of e-cigarettes causes health effects both similar to \\nand disparate from those of cigarette smoking. Further work is needed to define \\nthe long-term cardiopulmonary effects of e-cigarette use in humans.\\n\\n© 2020 The Authors. The Journal of Physiology © 2020 The Physiological Society.\\n\\nDOI: 10.1113/JP279754\\nPMCID: PMC10506663\\nPMID: 32975834 [Indexed for MEDLINE]\\n\\nConflict of interest statement: Competing interests The authors declare that \\nthey have no competing interests.\\n'"
            ]
          },
          "execution_count": 25,
          "metadata": {},
          "output_type": "execute_result"
        }
      ],
      "source": [
        "papers[1]"
      ]
    },
    {
      "cell_type": "markdown",
      "metadata": {
        "id": "3olGXLtKqvAs"
      },
      "source": [
        "## Extraction\n"
      ]
    },
    {
      "cell_type": "code",
      "execution_count": 26,
      "metadata": {
        "id": "uWYZUtOmCywX"
      },
      "outputs": [],
      "source": [
        "def extract_paper_info(text):\n",
        "    # Initialize a list to store the extracted information\n",
        "    extracted_info = []\n",
        "\n",
        "     # Process each paper individually\n",
        "    for paper in papers:\n",
        "        # Find all occurrences of double newlines\n",
        "        double_newlines = [match.start() for match in re.finditer(r'\\n\\n', paper)]\n",
        "\n",
        "        # Extract title\n",
        "        title = \"Title not found\"\n",
        "        if len(double_newlines) > 1:\n",
        "            title = paper[double_newlines[0]:double_newlines[1]].strip()\n",
        "\n",
        "        # Extract authors\n",
        "        authors = \"Authors not found\"\n",
        "        if len(double_newlines) > 2:\n",
        "            authors = paper[double_newlines[1]:double_newlines[2]].strip()\n",
        "\n",
        "        # Extract DOI\n",
        "        doi_match = re.search(r'\\nDOI:\\s*(10\\.\\d{4,9}/[-._;()/:A-Z0-9]+)', paper, re.IGNORECASE)\n",
        "        doi = doi_match.group(1).strip() if doi_match else \"DOI not found\"\n",
        "\n",
        "        # Extract abstract\n",
        "        abstract = \"Abstract not found\"\n",
        "        if '\\n\\nCopyright' in paper:\n",
        "            # Find the position of 'Copyright'\n",
        "            copyright_position = paper.find('\\n\\nCopyright')\n",
        "            # Find the last \\n\\n before the 'Copyright'\n",
        "            last_double_newline_before_copyright = paper.rfind('\\n\\n', 0, copyright_position)\n",
        "            if last_double_newline_before_copyright != -1:\n",
        "                abstract = paper[last_double_newline_before_copyright:copyright_position].strip()\n",
        "\n",
        "        elif '\\n\\n©' in paper:\n",
        "            # Find the position of '©'\n",
        "            copyright_position = paper.find('\\n\\n©')\n",
        "            # Find the last \\n\\n before the '©'\n",
        "            last_double_newline_before_copyright = paper.rfind('\\n\\n', 0, copyright_position)\n",
        "            if last_double_newline_before_copyright != -1:\n",
        "                abstract = paper[last_double_newline_before_copyright:copyright_position].strip()\n",
        "\n",
        "        elif '\\n\\nDOI:' in paper:\n",
        "            # Find the position of 'DOI:'\n",
        "            doi_position = paper.find('\\n\\nDOI: ')\n",
        "            # Find the last \\n\\n before the 'DOI:'\n",
        "            last_double_newline_before_doi = paper.rfind('\\n\\n', 0, doi_position)\n",
        "            if last_double_newline_before_doi != -1:\n",
        "                abstract = paper[last_double_newline_before_doi:doi_position].strip()\n",
        "\n",
        "        # Remove any newline characters in the abstract\n",
        "        abstract = re.sub(r'\\n', ' ', abstract)\n",
        "\n",
        "        if 'Author information: ' in abstract:\n",
        "          abstract = 'Abstract not found'\n",
        "\n",
        "        elif 'Comment ' in abstract:\n",
        "          abstract = 'Abstract not found'\n",
        "\n",
        "        elif len(abstract.split()) < 5:\n",
        "          abstract = 'Abstract not found'\n",
        "\n",
        "        # Append the extracted information to the list\n",
        "        extracted_info.append({\n",
        "            \"Title\": title,\n",
        "            \"Authors\": authors,\n",
        "            \"DOI\": doi,\n",
        "            \"Abstract\": abstract\n",
        "        })\n",
        "\n",
        "    return extracted_info"
      ]
    },
    {
      "cell_type": "code",
      "execution_count": 40,
      "metadata": {
        "colab": {
          "base_uri": "https://localhost:8080/",
          "height": 3235
        },
        "id": "gO6xACimQn9c",
        "outputId": "b88c03bf-2b23-4b43-ce92-e9795af01b4f"
      },
      "outputs": [
        {
          "data": {
            "text/html": [
              "<div>\n",
              "<style scoped>\n",
              "    .dataframe tbody tr th:only-of-type {\n",
              "        vertical-align: middle;\n",
              "    }\n",
              "\n",
              "    .dataframe tbody tr th {\n",
              "        vertical-align: top;\n",
              "    }\n",
              "\n",
              "    .dataframe thead th {\n",
              "        text-align: right;\n",
              "    }\n",
              "</style>\n",
              "<table border=\"1\" class=\"dataframe\">\n",
              "  <thead>\n",
              "    <tr style=\"text-align: right;\">\n",
              "      <th></th>\n",
              "      <th>Title</th>\n",
              "      <th>Authors</th>\n",
              "      <th>DOI</th>\n",
              "      <th>Abstract</th>\n",
              "    </tr>\n",
              "  </thead>\n",
              "  <tbody>\n",
              "    <tr>\n",
              "      <th>400</th>\n",
              "      <td>Evaluation of the Tobacco Heating System 2.2. ...</td>\n",
              "      <td>Oviedo A(1), Lebrun S(2), Kogel U(2), Ho J(1),...</td>\n",
              "      <td>10.1016/j.yrtph.2016.11.004</td>\n",
              "      <td>The toxicity of a mentholated version of the T...</td>\n",
              "    </tr>\n",
              "    <tr>\n",
              "      <th>401</th>\n",
              "      <td>Electronic Cigarettes as a Cause of Stuttering...</td>\n",
              "      <td>Alzahrani AM(1), Basalelah JH(1), Alarifi MS(1...</td>\n",
              "      <td>10.12659/AJCR.935716</td>\n",
              "      <td>BACKGROUND Having painful intermittent penile ...</td>\n",
              "    </tr>\n",
              "    <tr>\n",
              "      <th>402</th>\n",
              "      <td>Association of 1 Vaping Session With Cellular ...</td>\n",
              "      <td>Kelesidis T(1), Tran E(2), Nguyen R(2), Zhang ...</td>\n",
              "      <td>10.1001/jamapediatrics.2021.2351</td>\n",
              "      <td>This randomized clinical crossover trial evalu...</td>\n",
              "    </tr>\n",
              "    <tr>\n",
              "      <th>403</th>\n",
              "      <td>Cardiovascular injury induced by tobacco produ...</td>\n",
              "      <td>Conklin DJ(1), Schick S(2), Blaha MJ(3), Carll...</td>\n",
              "      <td>10.1152/ajpheart.00591.2018</td>\n",
              "      <td>Although substantial evidence shows that smoki...</td>\n",
              "    </tr>\n",
              "    <tr>\n",
              "      <th>404</th>\n",
              "      <td>PBPK modeling characterization of potential ac...</td>\n",
              "      <td>More SL(1), Thornton SA(2), Maskrey JR(2), Sha...</td>\n",
              "      <td>10.1080/08958378.2020.1720867</td>\n",
              "      <td>Objective: Ethanol is used as a solvent for fl...</td>\n",
              "    </tr>\n",
              "    <tr>\n",
              "      <th>...</th>\n",
              "      <td>...</td>\n",
              "      <td>...</td>\n",
              "      <td>...</td>\n",
              "      <td>...</td>\n",
              "    </tr>\n",
              "    <tr>\n",
              "      <th>496</th>\n",
              "      <td>Saliva cotinine levels in users of electronic ...</td>\n",
              "      <td>Etter JF, Bullen C.</td>\n",
              "      <td>10.1183/09031936.00066011</td>\n",
              "      <td>Abstract not found</td>\n",
              "    </tr>\n",
              "    <tr>\n",
              "      <th>497</th>\n",
              "      <td>Human vasculature-on-a-chip with macrophage-me...</td>\n",
              "      <td>Ohashi K(1), Hayashida A(2), Nozawa A(3), Mats...</td>\n",
              "      <td>10.1016/j.tiv.2023.105582</td>\n",
              "      <td>Heated tobacco products (HTPs) are expected to...</td>\n",
              "    </tr>\n",
              "    <tr>\n",
              "      <th>498</th>\n",
              "      <td>A new challenge: suicide attempt using nicotin...</td>\n",
              "      <td>Schipper EM(1), de Graaff LC, Koch BC, Brkic Z...</td>\n",
              "      <td>10.1111/bcp.12495</td>\n",
              "      <td>Abstract not found</td>\n",
              "    </tr>\n",
              "    <tr>\n",
              "      <th>499</th>\n",
              "      <td>Case 38-2019: A 20-Year-Old Man with Dyspnea a...</td>\n",
              "      <td>Hallowell RW(1), Feldman MB(1), Little BP(1), ...</td>\n",
              "      <td>10.1056/NEJMcpc1909628</td>\n",
              "      <td>Abstract not found</td>\n",
              "    </tr>\n",
              "    <tr>\n",
              "      <th>500</th>\n",
              "      <td>Measurement of cardiovascular and pulmonary fu...</td>\n",
              "      <td>D'Ruiz CD(1), O'Connell G(2), Graff DW(3), Yan...</td>\n",
              "      <td>10.1016/j.yrtph.2017.05.002</td>\n",
              "      <td>Acute changes in select physiological paramete...</td>\n",
              "    </tr>\n",
              "  </tbody>\n",
              "</table>\n",
              "<p>101 rows × 4 columns</p>\n",
              "</div>"
            ],
            "text/plain": [
              "                                                 Title  \\\n",
              "400  Evaluation of the Tobacco Heating System 2.2. ...   \n",
              "401  Electronic Cigarettes as a Cause of Stuttering...   \n",
              "402  Association of 1 Vaping Session With Cellular ...   \n",
              "403  Cardiovascular injury induced by tobacco produ...   \n",
              "404  PBPK modeling characterization of potential ac...   \n",
              "..                                                 ...   \n",
              "496  Saliva cotinine levels in users of electronic ...   \n",
              "497  Human vasculature-on-a-chip with macrophage-me...   \n",
              "498  A new challenge: suicide attempt using nicotin...   \n",
              "499  Case 38-2019: A 20-Year-Old Man with Dyspnea a...   \n",
              "500  Measurement of cardiovascular and pulmonary fu...   \n",
              "\n",
              "                                               Authors  \\\n",
              "400  Oviedo A(1), Lebrun S(2), Kogel U(2), Ho J(1),...   \n",
              "401  Alzahrani AM(1), Basalelah JH(1), Alarifi MS(1...   \n",
              "402  Kelesidis T(1), Tran E(2), Nguyen R(2), Zhang ...   \n",
              "403  Conklin DJ(1), Schick S(2), Blaha MJ(3), Carll...   \n",
              "404  More SL(1), Thornton SA(2), Maskrey JR(2), Sha...   \n",
              "..                                                 ...   \n",
              "496                                Etter JF, Bullen C.   \n",
              "497  Ohashi K(1), Hayashida A(2), Nozawa A(3), Mats...   \n",
              "498  Schipper EM(1), de Graaff LC, Koch BC, Brkic Z...   \n",
              "499  Hallowell RW(1), Feldman MB(1), Little BP(1), ...   \n",
              "500  D'Ruiz CD(1), O'Connell G(2), Graff DW(3), Yan...   \n",
              "\n",
              "                                  DOI  \\\n",
              "400       10.1016/j.yrtph.2016.11.004   \n",
              "401              10.12659/AJCR.935716   \n",
              "402  10.1001/jamapediatrics.2021.2351   \n",
              "403       10.1152/ajpheart.00591.2018   \n",
              "404     10.1080/08958378.2020.1720867   \n",
              "..                                ...   \n",
              "496         10.1183/09031936.00066011   \n",
              "497         10.1016/j.tiv.2023.105582   \n",
              "498                 10.1111/bcp.12495   \n",
              "499            10.1056/NEJMcpc1909628   \n",
              "500       10.1016/j.yrtph.2017.05.002   \n",
              "\n",
              "                                              Abstract  \n",
              "400  The toxicity of a mentholated version of the T...  \n",
              "401  BACKGROUND Having painful intermittent penile ...  \n",
              "402  This randomized clinical crossover trial evalu...  \n",
              "403  Although substantial evidence shows that smoki...  \n",
              "404  Objective: Ethanol is used as a solvent for fl...  \n",
              "..                                                 ...  \n",
              "496                                 Abstract not found  \n",
              "497  Heated tobacco products (HTPs) are expected to...  \n",
              "498                                 Abstract not found  \n",
              "499                                 Abstract not found  \n",
              "500  Acute changes in select physiological paramete...  \n",
              "\n",
              "[101 rows x 4 columns]"
            ]
          },
          "execution_count": 40,
          "metadata": {},
          "output_type": "execute_result"
        }
      ],
      "source": [
        "# Extract information\n",
        "extracted_info = extract_paper_info(text)\n",
        "\n",
        "# Create a DataFrame from the list of extracted information\n",
        "df = pd.DataFrame(extracted_info)\n",
        "\n",
        "# Print the DataFrame\n",
        "df.loc[400:500]"
      ]
    },
    {
      "cell_type": "code",
      "execution_count": 55,
      "metadata": {},
      "outputs": [],
      "source": [
        "df.to_csv('extracted.csv',index=False)"
      ]
    },
    {
      "cell_type": "code",
      "execution_count": 170,
      "metadata": {},
      "outputs": [],
      "source": [
        "df1 = df.loc[400:420]"
      ]
    },
    {
      "cell_type": "markdown",
      "metadata": {
        "id": "vzRoqFWZfy-j"
      },
      "source": [
        "# LLM"
      ]
    },
    {
      "cell_type": "code",
      "execution_count": 165,
      "metadata": {
        "colab": {
          "base_uri": "https://localhost:8080/"
        },
        "id": "yfHOAk_WgAiR",
        "outputId": "b5c67493-31d6-455e-d4b3-f1586fb0306c"
      },
      "outputs": [],
      "source": [
        "from openai import OpenAI\n",
        "from key import my_sk"
      ]
    },
    {
      "cell_type": "code",
      "execution_count": 171,
      "metadata": {},
      "outputs": [],
      "source": [
        "# Function to get GPT response\n",
        "def get_gpt_response(abstract):\n",
        "    client = OpenAI(api_key = my_sk)\n",
        "    response = client.chat.completions.create(\n",
        "        model=\"gpt-3.5-turbo-0125\",\n",
        "        messages=[{\"role\": \"user\", \"content\": f\"Describe the study type with only!!!!!!! 5 words: \\n\\n{abstract}\"}],\n",
        "        max_tokens=6,\n",
        "        stream=False\n",
        "    )\n",
        "    return response.choices[0].message.content"
      ]
    },
    {
      "cell_type": "code",
      "execution_count": 172,
      "metadata": {
        "id": "wImebMZbf-ZZ"
      },
      "outputs": [
        {
          "name": "stderr",
          "output_type": "stream",
          "text": [
            "C:\\Users\\showr\\AppData\\Local\\Temp\\ipykernel_31492\\3837623547.py:1: SettingWithCopyWarning: \n",
            "A value is trying to be set on a copy of a slice from a DataFrame.\n",
            "Try using .loc[row_indexer,col_indexer] = value instead\n",
            "\n",
            "See the caveats in the documentation: https://pandas.pydata.org/pandas-docs/stable/user_guide/indexing.html#returning-a-view-versus-a-copy\n",
            "  df1.loc[:, 'Study_Type'] = df1['Abstract'].apply(get_gpt_response)\n"
          ]
        }
      ],
      "source": [
        "df1.loc[:, 'Study_Type'] = df1['Abstract'].apply(get_gpt_response)"
      ]
    },
    {
      "cell_type": "code",
      "execution_count": 173,
      "metadata": {},
      "outputs": [
        {
          "data": {
            "text/html": [
              "<div>\n",
              "<style scoped>\n",
              "    .dataframe tbody tr th:only-of-type {\n",
              "        vertical-align: middle;\n",
              "    }\n",
              "\n",
              "    .dataframe tbody tr th {\n",
              "        vertical-align: top;\n",
              "    }\n",
              "\n",
              "    .dataframe thead th {\n",
              "        text-align: right;\n",
              "    }\n",
              "</style>\n",
              "<table border=\"1\" class=\"dataframe\">\n",
              "  <thead>\n",
              "    <tr style=\"text-align: right;\">\n",
              "      <th></th>\n",
              "      <th>Study_Type</th>\n",
              "    </tr>\n",
              "  </thead>\n",
              "  <tbody>\n",
              "    <tr>\n",
              "      <th>400</th>\n",
              "      <td>Inhalation toxicity study on</td>\n",
              "    </tr>\n",
              "    <tr>\n",
              "      <th>401</th>\n",
              "      <td>Case Report on Stuttering</td>\n",
              "    </tr>\n",
              "    <tr>\n",
              "      <th>402</th>\n",
              "      <td>Randomized clinical crossover trial.</td>\n",
              "    </tr>\n",
              "    <tr>\n",
              "      <th>403</th>\n",
              "      <td>Cardiovascular injury biomarkers</td>\n",
              "    </tr>\n",
              "    <tr>\n",
              "      <th>404</th>\n",
              "      <td>Pharmacokinetic modeling of</td>\n",
              "    </tr>\n",
              "    <tr>\n",
              "      <th>405</th>\n",
              "      <td>Cross-sectional observational study with regression</td>\n",
              "    </tr>\n",
              "    <tr>\n",
              "      <th>406</th>\n",
              "      <td>Short-term tobacco product-switching</td>\n",
              "    </tr>\n",
              "    <tr>\n",
              "      <th>407</th>\n",
              "      <td>Forensic case report with autopsy</td>\n",
              "    </tr>\n",
              "    <tr>\n",
              "      <th>408</th>\n",
              "      <td>Prospective observational study on biom</td>\n",
              "    </tr>\n",
              "    <tr>\n",
              "      <th>409</th>\n",
              "      <td>Workshop on biomarkers of</td>\n",
              "    </tr>\n",
              "    <tr>\n",
              "      <th>410</th>\n",
              "      <td>Nonblinded within-subject</td>\n",
              "    </tr>\n",
              "    <tr>\n",
              "      <th>411</th>\n",
              "      <td>Longitudinal observational cohort study</td>\n",
              "    </tr>\n",
              "    <tr>\n",
              "      <th>412</th>\n",
              "      <td>Quantitative analysis of short-term</td>\n",
              "    </tr>\n",
              "    <tr>\n",
              "      <th>413</th>\n",
              "      <td>In vitro and in vivo observational</td>\n",
              "    </tr>\n",
              "    <tr>\n",
              "      <th>414</th>\n",
              "      <td>Cross-sectional observational study with questionnaire</td>\n",
              "    </tr>\n",
              "    <tr>\n",
              "      <th>415</th>\n",
              "      <td>Clinical pharmacokinetic comparison study</td>\n",
              "    </tr>\n",
              "    <tr>\n",
              "      <th>416</th>\n",
              "      <td>Longitudinal observational study on</td>\n",
              "    </tr>\n",
              "    <tr>\n",
              "      <th>417</th>\n",
              "      <td>Clinical randomized controlled intervention study.</td>\n",
              "    </tr>\n",
              "    <tr>\n",
              "      <th>418</th>\n",
              "      <td>Case report with analytical confirmation.</td>\n",
              "    </tr>\n",
              "    <tr>\n",
              "      <th>419</th>\n",
              "      <td>Randomized Controlled Trial (RCT</td>\n",
              "    </tr>\n",
              "    <tr>\n",
              "      <th>420</th>\n",
              "      <td>Qualitative research study</td>\n",
              "    </tr>\n",
              "  </tbody>\n",
              "</table>\n",
              "</div>"
            ],
            "text/plain": [
              "                                                 Study_Type\n",
              "400                            Inhalation toxicity study on\n",
              "401                               Case Report on Stuttering\n",
              "402                    Randomized clinical crossover trial.\n",
              "403                        Cardiovascular injury biomarkers\n",
              "404                             Pharmacokinetic modeling of\n",
              "405     Cross-sectional observational study with regression\n",
              "406                    Short-term tobacco product-switching\n",
              "407                       Forensic case report with autopsy\n",
              "408                 Prospective observational study on biom\n",
              "409                               Workshop on biomarkers of\n",
              "410                               Nonblinded within-subject\n",
              "411                 Longitudinal observational cohort study\n",
              "412                     Quantitative analysis of short-term\n",
              "413                      In vitro and in vivo observational\n",
              "414  Cross-sectional observational study with questionnaire\n",
              "415               Clinical pharmacokinetic comparison study\n",
              "416                     Longitudinal observational study on\n",
              "417      Clinical randomized controlled intervention study.\n",
              "418               Case report with analytical confirmation.\n",
              "419                        Randomized Controlled Trial (RCT\n",
              "420                              Qualitative research study"
            ]
          },
          "execution_count": 173,
          "metadata": {},
          "output_type": "execute_result"
        }
      ],
      "source": [
        "pd.DataFrame(df1.loc[:, 'Study_Type'])"
      ]
    },
    {
      "cell_type": "code",
      "execution_count": 169,
      "metadata": {},
      "outputs": [],
      "source": [
        "df1.to_csv('output.csv',index=False)"
      ]
    }
  ],
  "metadata": {
    "colab": {
      "provenance": []
    },
    "kernelspec": {
      "display_name": "Python 3",
      "name": "python3"
    },
    "language_info": {
      "codemirror_mode": {
        "name": "ipython",
        "version": 3
      },
      "file_extension": ".py",
      "mimetype": "text/x-python",
      "name": "python",
      "nbconvert_exporter": "python",
      "pygments_lexer": "ipython3",
      "version": "3.12.3"
    }
  },
  "nbformat": 4,
  "nbformat_minor": 0
}
